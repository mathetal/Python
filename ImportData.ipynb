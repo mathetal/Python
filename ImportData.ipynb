{
 "cells": [
  {
   "cell_type": "markdown",
   "metadata": {},
   "source": [
    "## Import Data in Python\n",
    "### math et al\n",
    "\n",
    "This tutorial will show how to import data into Python using the pandas library."
   ]
  },
  {
   "cell_type": "markdown",
   "metadata": {},
   "source": [
    "### Example 1"
   ]
  },
  {
   "cell_type": "code",
   "execution_count": 1,
   "metadata": {},
   "outputs": [],
   "source": [
    "#First make sure to have pandas library installed. Then import the library.\n",
    "import pandas as pd"
   ]
  },
  {
   "cell_type": "markdown",
   "metadata": {},
   "source": [
    "read_csv can read csv, dat, and txt files"
   ]
  },
  {
   "cell_type": "code",
   "execution_count": 2,
   "metadata": {},
   "outputs": [],
   "source": [
    "#Make sure file is in same path as python script or else provide full path.\n",
    "path_to_file = \"/Users/Daniela/Desktop/Python/import_data/housing_london.csv\"\n",
    "london_data = pd.read_csv(path_to_file)"
   ]
  },
  {
   "cell_type": "code",
   "execution_count": 3,
   "metadata": {},
   "outputs": [
    {
     "name": "stdout",
     "output_type": "stream",
     "text": [
      "         date            area  average_price       code  houses_sold  \\\n",
      "0  1995-01-01  city of london          91449  E09000001         17.0   \n",
      "1  1995-02-01  city of london          82203  E09000001          7.0   \n",
      "2  1995-03-01  city of london          79121  E09000001         14.0   \n",
      "3  1995-04-01  city of london          77101  E09000001          7.0   \n",
      "4  1995-05-01  city of london          84409  E09000001         10.0   \n",
      "\n",
      "   no_of_crimes  borough_flag  \n",
      "0           NaN             1  \n",
      "1           NaN             1  \n",
      "2           NaN             1  \n",
      "3           NaN             1  \n",
      "4           NaN             1  \n"
     ]
    }
   ],
   "source": [
    "#Show first 5 rows by default. Change by adding number into parentheses.\n",
    "print(london_data.head())"
   ]
  },
  {
   "cell_type": "code",
   "execution_count": 4,
   "metadata": {},
   "outputs": [
    {
     "name": "stdout",
     "output_type": "stream",
     "text": [
      "(13549, 7)\n"
     ]
    }
   ],
   "source": [
    "#size of dataframe\n",
    "print(london_data.shape)"
   ]
  },
  {
   "cell_type": "code",
   "execution_count": 5,
   "metadata": {},
   "outputs": [
    {
     "name": "stdout",
     "output_type": "stream",
     "text": [
      "date              object\n",
      "area              object\n",
      "average_price      int64\n",
      "code              object\n",
      "houses_sold      float64\n",
      "no_of_crimes     float64\n",
      "borough_flag       int64\n",
      "dtype: object\n"
     ]
    }
   ],
   "source": [
    "#view data types of data frame\n",
    "print(london_data.dtypes)"
   ]
  },
  {
   "cell_type": "markdown",
   "metadata": {},
   "source": [
    "### Example 2"
   ]
  },
  {
   "cell_type": "markdown",
   "metadata": {},
   "source": [
    "Import directly from a URL."
   ]
  },
  {
   "cell_type": "code",
   "execution_count": 6,
   "metadata": {},
   "outputs": [],
   "source": [
    "url = \"http://users.stat.ufl.edu/~winner/data/resid_energy.dat\"\n",
    "energy_data = pd.read_csv(url, sep=r\"\\s+\", header=None)"
   ]
  },
  {
   "cell_type": "code",
   "execution_count": 7,
   "metadata": {},
   "outputs": [
    {
     "name": "stdout",
     "output_type": "stream",
     "text": [
      "      0       1     2     3      4      5     6     7      8\n",
      "0  1984  235.83  3.93  2.69  44.80  20.17  5.72  7.57  15.96\n",
      "1  1985  237.92  4.22  2.67  45.64  20.13  5.52  7.06  16.04\n",
      "2  1986  240.13  4.46  2.66  47.26  19.84  5.17  5.50  15.98\n",
      "3  1987  242.29  4.74  2.64  47.85  19.22  4.73  5.10  16.26\n",
      "4  1988  244.50  5.10  2.62  48.22  18.53  4.49  4.96  17.13\n"
     ]
    }
   ],
   "source": [
    "#print header\n",
    "print(energy_data.head())\n"
   ]
  },
  {
   "cell_type": "code",
   "execution_count": 8,
   "metadata": {},
   "outputs": [
    {
     "name": "stdout",
     "output_type": "stream",
     "text": [
      "(27, 9)\n"
     ]
    }
   ],
   "source": [
    "#size of dataframe\n",
    "print(energy_data.shape)"
   ]
  },
  {
   "cell_type": "code",
   "execution_count": 9,
   "metadata": {},
   "outputs": [
    {
     "name": "stdout",
     "output_type": "stream",
     "text": [
      "0      int64\n",
      "1    float64\n",
      "2    float64\n",
      "3    float64\n",
      "4    float64\n",
      "5    float64\n",
      "6    float64\n",
      "7    float64\n",
      "8    float64\n",
      "dtype: object\n"
     ]
    }
   ],
   "source": [
    "#view data types of data frame\n",
    "print(energy_data.dtypes)"
   ]
  }
 ],
 "metadata": {
  "kernelspec": {
   "display_name": "Python 3.8.2 64-bit",
   "language": "python",
   "name": "python38264bite1541ec78d474241a6ba0d6418d28929"
  },
  "language_info": {
   "codemirror_mode": {
    "name": "ipython",
    "version": 3
   },
   "file_extension": ".py",
   "mimetype": "text/x-python",
   "name": "python",
   "nbconvert_exporter": "python",
   "pygments_lexer": "ipython3",
   "version": "3.8.2"
  }
 },
 "nbformat": 4,
 "nbformat_minor": 4
}
